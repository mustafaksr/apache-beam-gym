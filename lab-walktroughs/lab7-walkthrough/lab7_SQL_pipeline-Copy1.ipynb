{
 "cells": [
  {
   "cell_type": "code",
   "execution_count": 7,
   "id": "32567b01-4f36-481a-bb14-6a1cec28b9f1",
   "metadata": {},
   "outputs": [
    {
     "name": "stdout",
     "output_type": "stream",
     "text": [
      "Writing lab7_streaming_minute_traffic_SQL_pipeline.py\n"
     ]
    }
   ],
   "source": [
    "%%writefile lab7_streaming_minute_traffic_SQL_pipeline.py\n",
    "import argparse\n",
    "import time\n",
    "import logging\n",
    "import json\n",
    "import typing\n",
    "from datetime import datetime\n",
    "import apache_beam as beam\n",
    "from apache_beam.options.pipeline_options import GoogleCloudOptions\n",
    "from apache_beam.options.pipeline_options import PipelineOptions\n",
    "from apache_beam.options.pipeline_options import StandardOptions\n",
    "from apache_beam.transforms.sql import SqlTransform\n",
    "from apache_beam.runners import DataflowRunner, DirectRunner\n",
    "\n",
    "# ### functions and classes\n",
    "\n",
    "class CommonLog(typing.NamedTuple):\n",
    "    ip: str\n",
    "    user_id: str\n",
    "    lat: float\n",
    "    lng: float\n",
    "    timestamp: str\n",
    "    event_timestamp: str\n",
    "    http_request: str\n",
    "    http_response: int\n",
    "    num_bytes: int\n",
    "    user_agent: str\n",
    "\n",
    "beam.coders.registry.register_coder(CommonLog, beam.coders.RowCoder)\n",
    "\n",
    "def parse_json(element):\n",
    "    row = json.loads(element.decode('utf-8'))\n",
    "    return row\n",
    "\n",
    "class GetEventTimestampFn(beam.DoFn):\n",
    "    def process(self, row, timestamp=beam.DoFn.TimestampParam):\n",
    "        event_ts = timestamp.to_utc_datetime().strftime(\"%Y-%m-%dT%H:%M:%S\")\n",
    "        row['event_timestamp'] = event_ts\n",
    "        yield CommonLog(**row)\n",
    "\n",
    "class ParseAndGetEventTimestamp(beam.PTransform):\n",
    "    def expand(self, pcoll):\n",
    "        return (\n",
    "            pcoll\n",
    "            | 'ParseJson' >> beam.Map(parse_json)\n",
    "            | 'GetEventTimestamp' >> beam.ParDo(GetEventTimestampFn())\n",
    "            )\n",
    "\n",
    "def to_dict(row):\n",
    "    return {'page_views' : row.page_views,\n",
    "            'start_time' : row.start_time}\n",
    "\n",
    "# ### main\n",
    "\n",
    "def run():\n",
    "    # Command line arguments\n",
    "    parser = argparse.ArgumentParser(description='Load from Json from Pub/Sub into BigQuery')\n",
    "    parser.add_argument('--project',required=True, help='Specify Google Cloud project')\n",
    "    parser.add_argument('--region', required=True, help='Specify Google Cloud region')\n",
    "    parser.add_argument('--staging_location', required=True, help='Specify Cloud Storage bucket for staging')\n",
    "    parser.add_argument('--temp_location', required=True, help='Specify Cloud Storage bucket for temp')\n",
    "    parser.add_argument('--runner', required=True, help='Specify Apache Beam Runner')\n",
    "    parser.add_argument('--input_topic', required=True, help='Input Pub/Sub Topic')\n",
    "    parser.add_argument('--table_name', required=True, help='BigQuery table name for aggregate results')\n",
    "\n",
    "\n",
    "    opts, pipeline_opts = parser.parse_known_args()\n",
    "\n",
    "    # Setting up the Beam pipeline options\n",
    "    options = PipelineOptions(pipeline_opts, save_main_session=True, streaming=True)\n",
    "    options.view_as(GoogleCloudOptions).project = opts.project\n",
    "    options.view_as(GoogleCloudOptions).region = opts.region\n",
    "    options.view_as(GoogleCloudOptions).staging_location = opts.staging_location\n",
    "    options.view_as(GoogleCloudOptions).temp_location = opts.temp_location\n",
    "    options.view_as(GoogleCloudOptions).job_name = '{0}{1}'.format('streaming-minute-traffic-sql-pipeline-',time.time_ns())\n",
    "    options.view_as(StandardOptions).runner = opts.runner\n",
    "\n",
    "    input_topic = opts.input_topic\n",
    "    table_name = opts.table_name\n",
    "\n",
    "    # Table schema for BigQuery\n",
    "    table_schema = {\n",
    "        \"fields\": [\n",
    "            {\n",
    "                \"name\": \"page_views\",\n",
    "                \"type\": \"INTEGER\"\n",
    "            },\n",
    "            {\n",
    "                \"name\": \"start_time\",\n",
    "                \"type\": \"STRING\"\n",
    "            },\n",
    "\n",
    "        ]\n",
    "    }\n",
    "\n",
    "    query = '''\n",
    "        SELECT\n",
    "            COUNT(*) AS page_views,\n",
    "            STRING(window_start) AS start_time\n",
    "        FROM\n",
    "            TUMBLE(\n",
    "                (SELECT TIMESTAMP(event_timestamp) AS ts FROM PCOLLECTION),\n",
    "                DESCRIPTOR(ts),\n",
    "                'INTERVAL 1 MINUTE')\n",
    "        GROUP BY window_start\n",
    "    '''\n",
    "\n",
    "    # Create the pipeline\n",
    "    p = beam.Pipeline(options=options)\n",
    "\n",
    "    (p | 'ReadFromPubSub' >> beam.io.ReadFromPubSub(input_topic)\n",
    "       | 'ParseAndGetEventTimestamp' >> ParseAndGetEventTimestamp().with_output_types(CommonLog)\n",
    "       | \"CountPerMinute\" >> SqlTransform(query, dialect='zetasql')\n",
    "       | \"ConvertToDict\" >> beam.Map(to_dict)\n",
    "       | 'WriteAggToBQ' >> beam.io.WriteToBigQuery(\n",
    "            table_name,\n",
    "            schema=table_schema,\n",
    "            create_disposition=beam.io.BigQueryDisposition.CREATE_IF_NEEDED,\n",
    "            write_disposition=beam.io.BigQueryDisposition.WRITE_APPEND\n",
    "            )\n",
    "    )\n",
    "\n",
    "    logging.getLogger().setLevel(logging.INFO)\n",
    "    logging.info(\"Building pipeline ...\")\n",
    "\n",
    "    p.run().wait_until_finish()\n",
    "\n",
    "if __name__ == '__main__':\n",
    "  run()"
   ]
  },
  {
   "cell_type": "code",
   "execution_count": 8,
   "id": "aeafefda-7949-44e3-aaa1-1d1904b8e23e",
   "metadata": {},
   "outputs": [],
   "source": [
    "import os"
   ]
  },
  {
   "cell_type": "code",
   "execution_count": 9,
   "id": "7ef9e147-682b-47b6-932b-b4612a0e8640",
   "metadata": {},
   "outputs": [],
   "source": [
    "os.environ[\"workdir\"]=\"/path\""
   ]
  },
  {
   "cell_type": "code",
   "execution_count": 11,
   "id": "a9b7e9c3-6c93-48f7-8b68-bf7decfe9c10",
   "metadata": {},
   "outputs": [
    {
     "name": "stdout",
     "output_type": "stream",
     "text": [
      "#!/bin/#!/usr/bin/env bash\n",
      "echo \"Creating pipeline sinks\"\n",
      "\n",
      "PROJECT_ID=$(gcloud config get-value project)\n",
      "\n",
      "# GCS buckets\n",
      "#TODO: Add try/catch for the first bucket since qwiklabs\n",
      "gsutil mb -l US gs://$PROJECT_ID\n",
      "gsutil mb -l US -c \"COLDLINE\" gs://$PROJECT_ID-coldline\n",
      "\n",
      "# BiqQuery Dataset\n",
      "bq mk --location=US logs\n",
      "\n",
      "# PubSub Topic\n",
      "gcloud pubsub topics create my_topic"
     ]
    }
   ],
   "source": [
    "%%bash\n",
    "cat $workdir/create_streaming_sinks.sh"
   ]
  },
  {
   "cell_type": "code",
   "execution_count": null,
   "id": "ed24b80c-c3fe-469f-bc04-426d511f3b14",
   "metadata": {},
   "outputs": [],
   "source": [
    "%%bash\n",
    "bash $workdir/create_streaming_sinks.sh"
   ]
  },
  {
   "cell_type": "code",
   "execution_count": null,
   "id": "78472401-d03c-49f3-988e-2969b24413ae",
   "metadata": {},
   "outputs": [],
   "source": [
    "PROJECT_ID = !(gcloud config get-value core/project)\n",
    "PROJECT_ID = PROJECT_ID[0]"
   ]
  },
  {
   "cell_type": "code",
   "execution_count": 17,
   "id": "f9f3e38b-7613-4fac-bb52-c6e642b05751",
   "metadata": {},
   "outputs": [],
   "source": [
    "os.environ[\"PROJECT_ID\"]=PROJECT_ID\n",
    "os.environ[\"REGION\"]='us-central1'\n",
    "os.environ[\"BUCKET\"]=\"gs://\"+PROJECT_ID\n",
    "os.environ[\"PIPELINE_FOLDER\"]=\"gs://\"+PROJECT_ID\n",
    "os.environ[\"RUNNER\"]=\"DataflowRunner\"\n",
    "os.environ[\"PUBSUB_TOPIC\"]=f\"projects/{PROJECT_ID}/topics/my_topic\"\n",
    "os.environ[\"WINDOW_DURATION\"]=60\n",
    "os.environ[\"ALLOWED_LATENESS\"]=1\n",
    "os.environ[\"OUTPUT_TABLE_NAME\"]=f\"{PROJECT_ID}:logs.minute_traffic\"\n",
    "os.environ[\"DEADLETTER_BUCKET\"]=\"gs://\"+PROJECT_ID\n",
    "os.environ[\"INPUT_PATH\"]=\"gs://\"+PROJECT_ID+\"/events.json\"\n",
    "os.environ[\"TABLE_NAME\"]=PROJECT_ID+\":logs.minute_traffic\"\n",
    "os.environ[\"AGGREGATE_TABLE_NAME\"]=f\"{PROJECT_ID}:logs.minute_traffic\"\n",
    "os.environ[\"RAW_TABLE_NAME\"]=f\"{PROJECT_ID}:logs.raw\"\n",
    "\n"
   ]
  },
  {
   "cell_type": "code",
   "execution_count": null,
   "id": "eaa0b5e5-76aa-47e2-b3e2-b9a39170d2db",
   "metadata": {},
   "outputs": [],
   "source": [
    "%%bash\n",
    "# export PROJECT_ID=$(gcloud config get-value project)\n",
    "# export REGION='us-central1'\n",
    "# export BUCKET=gs://${PROJECT_ID}\n",
    "# export PIPELINE_FOLDER=${BUCKET}\n",
    "# export RUNNER=DataflowRunner\n",
    "# export PUBSUB_TOPIC=projects/${PROJECT_ID}/topics/my_topic\n",
    "# export TABLE_NAME=${PROJECT_ID}:logs.minute_traffic\n",
    "python3 lab7_streaming_minute_traffic_SQL_pipeline.py \\\n",
    "--project=${PROJECT_ID} \\\n",
    "--region=${REGION} \\\n",
    "--staging_location=${PIPELINE_FOLDER}/staging \\\n",
    "--temp_location=${PIPELINE_FOLDER}/temp \\\n",
    "--runner=${RUNNER} \\\n",
    "--input_topic=${PUBSUB_TOPIC} \\\n",
    "--table_name=${TABLE_NAME} \\\n",
    "--experiments=use_runner_v2"
   ]
  },
  {
   "cell_type": "code",
   "execution_count": 12,
   "id": "0bcec6c8-de32-445f-ac5b-9ea9a360329c",
   "metadata": {},
   "outputs": [
    {
     "name": "stdout",
     "output_type": "stream",
     "text": [
      "#!/bin/#!/usr/bin/env bash\n",
      "echo \"Installing packages\"\n",
      "# Install modules\n",
      "sh ./install_packages.sh\n",
      "\n",
      "echo \"Generating synthetic users\"\n",
      "# Generate 10 fake web site users\n",
      "python3 user_generator.py --n=10\n",
      "\n",
      "echo \"Generating synthetic events\"\n",
      "use_lag=$1\n",
      "\n",
      "if [ \"$use_lag\" = true ] ; then\n",
      "    echo \"Using lag\"\n",
      "    python3 streaming_event_generator.py --project_id=$(gcloud config get-value project) -t=my_topic\n",
      "else\n",
      "    echo \"Not using lag\"\n",
      "    python3 streaming_event_generator.py --project_id=$(gcloud config get-value project) -t=my_topic -off=1. -on=0. -l=0\n",
      "fi"
     ]
    }
   ],
   "source": [
    "cat $workdir/generate_streaming_events.sh"
   ]
  },
  {
   "cell_type": "code",
   "execution_count": null,
   "id": "34d088d8-a970-4be8-9379-54f5857438ad",
   "metadata": {},
   "outputs": [],
   "source": [
    "bash $workdir/generate_streaming_events.sh"
   ]
  },
  {
   "cell_type": "code",
   "execution_count": null,
   "id": "dbd3fc9a-38db-4708-8889-42935242e26b",
   "metadata": {},
   "outputs": [],
   "source": [
    "%%bigquery\n",
    "SELECT * FROM logs.minute_traffic"
   ]
  }
 ],
 "metadata": {
  "kernelspec": {
   "display_name": "Python 3 (ipykernel)",
   "language": "python",
   "name": "python3"
  },
  "language_info": {
   "codemirror_mode": {
    "name": "ipython",
    "version": 3
   },
   "file_extension": ".py",
   "mimetype": "text/x-python",
   "name": "python",
   "nbconvert_exporter": "python",
   "pygments_lexer": "ipython3",
   "version": "3.9.12"
  }
 },
 "nbformat": 4,
 "nbformat_minor": 5
}
