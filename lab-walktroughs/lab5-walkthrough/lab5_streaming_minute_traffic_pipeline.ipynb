{
 "cells": [
  {
   "cell_type": "code",
   "execution_count": 17,
   "id": "32567b01-4f36-481a-bb14-6a1cec28b9f1",
   "metadata": {},
   "outputs": [
    {
     "name": "stdout",
     "output_type": "stream",
     "text": [
      "Writing lab5_streaming_minute_traffic_pipeline.py\n"
     ]
    }
   ],
   "source": [
    "%%writefile lab5_streaming_minute_traffic_pipeline.py\n",
    "import argparse\n",
    "import time\n",
    "import logging\n",
    "import json\n",
    "import typing\n",
    "from datetime import datetime\n",
    "import apache_beam as beam\n",
    "from apache_beam.io import fileio\n",
    "from apache_beam.options.pipeline_options import GoogleCloudOptions\n",
    "from apache_beam.options.pipeline_options import PipelineOptions\n",
    "from apache_beam.options.pipeline_options import StandardOptions\n",
    "from apache_beam.transforms.trigger import AfterWatermark, AfterCount, AfterProcessingTime\n",
    "from apache_beam.transforms.trigger import AccumulationMode\n",
    "from apache_beam.transforms.combiners import CountCombineFn\n",
    "from apache_beam.runners import DataflowRunner, DirectRunner\n",
    "\n",
    "# ### functions and classes\n",
    "\n",
    "class CommonLog(typing.NamedTuple):\n",
    "    ip: str\n",
    "    user_id: str\n",
    "    lat: float\n",
    "    lng: float\n",
    "    timestamp: str\n",
    "    http_request: str\n",
    "    http_response: int\n",
    "    num_bytes: int\n",
    "    user_agent: str\n",
    "\n",
    "beam.coders.registry.register_coder(CommonLog, beam.coders.RowCoder)\n",
    "\n",
    "class ConvertToCommonLogFn(beam.DoFn):\n",
    "  def process(self, element):\n",
    "    try:\n",
    "        row = json.loads(element.decode('utf-8'))\n",
    "        yield beam.pvalue.TaggedOutput('parsed_row', CommonLog(**row))\n",
    "    except:\n",
    "        yield beam.pvalue.TaggedOutput('unparsed_row', element.decode('utf-8'))\n",
    "\n",
    "\n",
    "class GetTimestampFn(beam.DoFn):\n",
    "    def process(self, element, window=beam.DoFn.WindowParam):\n",
    "        window_start = window.start.to_utc_datetime().strftime(\"%Y-%m-%dT%H:%M:%S\")\n",
    "        output = {'page_views': element, 'timestamp': window_start}\n",
    "        yield output\n",
    "\n",
    "# ### main\n",
    "\n",
    "def run():\n",
    "    # Command line arguments\n",
    "    parser = argparse.ArgumentParser(description='Load from Json from Pub/Sub into BigQuery')\n",
    "\n",
    "    # Google Cloud options\n",
    "    parser.add_argument('--project',required=True, help='Specify Google Cloud project')\n",
    "    parser.add_argument('--region', required=True, help='Specify Google Cloud region')\n",
    "    parser.add_argument('--staging_location', required=True, help='Specify Cloud Storage bucket for staging')\n",
    "    parser.add_argument('--temp_location', required=True, help='Specify Cloud Storage bucket for temp')\n",
    "    parser.add_argument('--runner', required=True, help='Specify Apache Beam Runner')\n",
    "\n",
    "    # Pipeline-specific options\n",
    "    parser.add_argument('--window_duration', required=True, help='Window duration in seconds')\n",
    "    parser.add_argument('--table_name', required=True, help='Output BQ table')\n",
    "    parser.add_argument('--input_topic', required=True, help='Input Pub/Sub topic')\n",
    "    parser.add_argument('--allowed_lateness', required=True, help='Allowed lateness')\n",
    "    parser.add_argument('--dead_letter_bucket', required=True, help='GCS Bucket for unparsable Pub/Sub messages')\n",
    "\n",
    "    opts, pipeline_opts = parser.parse_known_args()\n",
    "\n",
    "    # Setting up the Beam pipeline options\n",
    "    options = PipelineOptions(pipeline_opts, save_main_session=True, streaming=True)\n",
    "    options.view_as(GoogleCloudOptions).project = opts.project\n",
    "    options.view_as(GoogleCloudOptions).region = opts.region\n",
    "    options.view_as(GoogleCloudOptions).staging_location = opts.staging_location\n",
    "    options.view_as(GoogleCloudOptions).temp_location = opts.temp_location\n",
    "    options.view_as(GoogleCloudOptions).job_name = '{0}{1}'.format('streaming-minute-traffic-pipeline-',time.time_ns())\n",
    "    options.view_as(StandardOptions).runner = opts.runner\n",
    "\n",
    "    input_topic = opts.input_topic\n",
    "    table_name = opts.table_name\n",
    "    window_duration = opts.window_duration\n",
    "    allowed_lateness = opts.allowed_lateness\n",
    "    dead_letter_bucket = opts.dead_letter_bucket\n",
    "\n",
    "    output_path = dead_letter_bucket + '/deadletter/'\n",
    "\n",
    "    # Table schema for BigQuery\n",
    "    table_schema = {\n",
    "        \"fields\": [\n",
    "            {\n",
    "                \"name\": \"page_views\",\n",
    "                \"type\": \"INTEGER\"\n",
    "            },\n",
    "            {\n",
    "                \"name\": \"timestamp\",\n",
    "                \"type\": \"STRING\"\n",
    "            },\n",
    "\n",
    "        ]\n",
    "    }\n",
    "\n",
    "    # Create the pipeline\n",
    "    p = beam.Pipeline(options=options)\n",
    "\n",
    "\n",
    "\n",
    "    rows = (p | 'ReadFromPubSub' >> beam.io.ReadFromPubSub(input_topic)\n",
    "              | 'ParseJson' >> beam.ParDo(ConvertToCommonLogFn()).with_outputs('parsed_row', 'unparsed_row')\n",
    "                                                                 .with_output_types(CommonLog))\n",
    "\n",
    "    (rows.unparsed_row\n",
    "        | 'BatchOver10s' >> beam.WindowInto(beam.window.FixedWindows(120),\n",
    "                                            trigger=AfterProcessingTime(120),\n",
    "                                            accumulation_mode=AccumulationMode.DISCARDING)\n",
    "        | 'WriteUnparsedToGCS' >> fileio.WriteToFiles(output_path,\n",
    "                                                      shards=1,\n",
    "                                                      max_writers_per_bundle=0)\n",
    "        )\n",
    "\n",
    "    (rows.parsed_row\n",
    "        | \"WindowByMinute\" >> beam.WindowInto(beam.window.FixedWindows(int(window_duration)),\n",
    "                                              trigger=AfterWatermark(late=AfterCount(1)),\n",
    "                                              allowed_lateness=int(allowed_lateness),\n",
    "                                              accumulation_mode=AccumulationMode.ACCUMULATING)\n",
    "        | \"CountPerMinute\" >> beam.CombineGlobally(CountCombineFn()).without_defaults()\n",
    "        | \"AddWindowTimestamp\" >> beam.ParDo(GetTimestampFn())\n",
    "        | 'WriteAggToBQ' >> beam.io.WriteToBigQuery(\n",
    "            table_name,\n",
    "            schema=table_schema,\n",
    "            create_disposition=beam.io.BigQueryDisposition.CREATE_IF_NEEDED,\n",
    "            write_disposition=beam.io.BigQueryDisposition.WRITE_APPEND\n",
    "            )\n",
    "    )\n",
    "\n",
    "    logging.getLogger().setLevel(logging.INFO)\n",
    "    logging.info(\"Building pipeline ...\")\n",
    "\n",
    "    p.run().wait_until_finish()\n",
    "\n",
    "if __name__ == '__main__':\n",
    "  run()"
   ]
  },
  {
   "cell_type": "code",
   "execution_count": 11,
   "id": "aeafefda-7949-44e3-aaa1-1d1904b8e23e",
   "metadata": {},
   "outputs": [],
   "source": [
    "import os"
   ]
  },
  {
   "cell_type": "code",
   "execution_count": 12,
   "id": "7ef9e147-682b-47b6-932b-b4612a0e8640",
   "metadata": {},
   "outputs": [],
   "source": [
    "os.environ[\"workdir\"]=\"/path\""
   ]
  },
  {
   "cell_type": "code",
   "execution_count": 14,
   "id": "a9b7e9c3-6c93-48f7-8b68-bf7decfe9c10",
   "metadata": {},
   "outputs": [
    {
     "name": "stdout",
     "output_type": "stream",
     "text": [
      "#!/bin/#!/usr/bin/env bash\n",
      "echo \"Creating pipeline sinks\"\n",
      "\n",
      "PROJECT_ID=$(gcloud config get-value project)\n",
      "\n",
      "# GCS buckets\n",
      "#TODO: Add try/catch for the first bucket since qwiklabs\n",
      "gsutil mb -l US gs://$PROJECT_ID\n",
      "gsutil mb -l US -c \"COLDLINE\" gs://$PROJECT_ID-coldline\n",
      "\n",
      "# BiqQuery Dataset\n",
      "bq mk --location=US logs\n",
      "\n",
      "# PubSub Topic\n",
      "gcloud pubsub topics create my_topic"
     ]
    }
   ],
   "source": [
    "%%bash\n",
    "cat $workdir/create_streaming_sinks.sh"
   ]
  },
  {
   "cell_type": "code",
   "execution_count": null,
   "id": "ed24b80c-c3fe-469f-bc04-426d511f3b14",
   "metadata": {},
   "outputs": [],
   "source": [
    "%%bash\n",
    "bash $workdir/create_streaming_sinks.sh"
   ]
  },
  {
   "cell_type": "code",
   "execution_count": null,
   "id": "78472401-d03c-49f3-988e-2969b24413ae",
   "metadata": {},
   "outputs": [],
   "source": [
    "PROJECT_ID = !(gcloud config get-value core/project)\n",
    "PROJECT_ID = PROJECT_ID[0]"
   ]
  },
  {
   "cell_type": "code",
   "execution_count": 17,
   "id": "f9f3e38b-7613-4fac-bb52-c6e642b05751",
   "metadata": {},
   "outputs": [],
   "source": [
    "os.environ[\"PROJECT_ID\"]=PROJECT_ID\n",
    "os.environ[\"REGION\"]='us-central1'\n",
    "os.environ[\"BUCKET\"]=\"gs://\"+PROJECT_ID\n",
    "os.environ[\"PIPELINE_FOLDER\"]=\"gs://\"+PROJECT_ID\n",
    "os.environ[\"RUNNER\"]=\"DataflowRunner\"\n",
    "os.environ[\"PUBSUB_TOPIC\"]=f\"projects/{PROJECT_ID}/topics/my_topic\"\n",
    "os.environ[\"WINDOW_DURATION\"]=60\n",
    "os.environ[\"ALLOWED_LATENESS\"]=1\n",
    "os.environ[\"OUTPUT_TABLE_NAME\"]=f\"{PROJECT_ID}:logs.minute_traffic\"\n",
    "os.environ[\"DEADLETTER_BUCKET\"]=\"gs://\"+PROJECT_ID\n",
    "os.environ[\"INPUT_PATH\"]=\"gs://\"+PROJECT_ID+\"/events.json\"\n",
    "os.environ[\"TABLE_NAME\"]=PROJECT_ID+\":logs.user_traffic\"\n",
    "os.environ[\"RAW_TABLE_NAME\"]=f\"{PROJECT_ID}:logs.raw\"\n",
    "\n"
   ]
  },
  {
   "cell_type": "code",
   "execution_count": null,
   "id": "eaa0b5e5-76aa-47e2-b3e2-b9a39170d2db",
   "metadata": {},
   "outputs": [],
   "source": [
    "%%bash\n",
    "# export PROJECT_ID=$(gcloud config get-value project)\n",
    "# export REGION='us-central1'\n",
    "# export BUCKET=gs://${PROJECT_ID}\n",
    "# export PIPELINE_FOLDER=${BUCKET}\n",
    "# export RUNNER=DataflowRunner\n",
    "# export PUBSUB_TOPIC=projects/${PROJECT_ID}/topics/my_topic\n",
    "# export WINDOW_DURATION=60\n",
    "# export ALLOWED_LATENESS=1\n",
    "# export OUTPUT_TABLE_NAME=${PROJECT_ID}:logs.minute_traffic\n",
    "# export DEADLETTER_BUCKET=${BUCKET}\n",
    "python3 lab5_streaming_minute_traffic_pipeline.py \\\n",
    "--project=${PROJECT_ID} \\\n",
    "--region=${REGION} \\\n",
    "--staging_location=${PIPELINE_FOLDER}/staging \\\n",
    "--temp_location=${PIPELINE_FOLDER}/temp \\\n",
    "--runner=${RUNNER} \\\n",
    "--input_topic=${PUBSUB_TOPIC} \\\n",
    "--table_name=${TABLE_NAME} \\\n",
    "--experiments=use_runner_v2"
   ]
  },
  {
   "cell_type": "code",
   "execution_count": 12,
   "id": "194b5c41-0730-460e-b061-489a104e501b",
   "metadata": {},
   "outputs": [
    {
     "name": "stdout",
     "output_type": "stream",
     "text": [
      "#!/bin/#!/usr/bin/env bash\n",
      "echo \"Installing packages\"\n",
      "# Install modules\n",
      "sh ./install_packages.sh\n",
      "\n",
      "echo \"Generating synthetic users\"\n",
      "# Generate 10 fake web site users\n",
      "python3 user_generator.py --n=10\n",
      "\n",
      "echo \"Generating synthetic events\"\n",
      "use_lag=$1\n",
      "\n",
      "if [ \"$use_lag\" = true ] ; then\n",
      "    echo \"Using lag\"\n",
      "    python3 streaming_event_generator.py --project_id=$(gcloud config get-value project) -t=my_topic\n",
      "else\n",
      "    echo \"Not using lag\"\n",
      "    python3 streaming_event_generator.py --project_id=$(gcloud config get-value project) -t=my_topic -off=1. -on=0. -l=0\n",
      "fi"
     ]
    }
   ],
   "source": [
    "cat $workdir/generate_streaming_events.sh"
   ]
  },
  {
   "cell_type": "code",
   "execution_count": null,
   "id": "2aa8e11d-b045-43f2-a3e7-15b814b6f012",
   "metadata": {},
   "outputs": [],
   "source": [
    "bash $workdir/generate_streaming_events.sh"
   ]
  },
  {
   "cell_type": "code",
   "execution_count": null,
   "id": "b88cc06a-9b1d-41e2-9d88-d02fd922270e",
   "metadata": {},
   "outputs": [],
   "source": []
  }
 ],
 "metadata": {
  "kernelspec": {
   "display_name": "Python 3 (ipykernel)",
   "language": "python",
   "name": "python3"
  },
  "language_info": {
   "codemirror_mode": {
    "name": "ipython",
    "version": 3
   },
   "file_extension": ".py",
   "mimetype": "text/x-python",
   "name": "python",
   "nbconvert_exporter": "python",
   "pygments_lexer": "ipython3",
   "version": "3.9.12"
  }
 },
 "nbformat": 4,
 "nbformat_minor": 5
}
